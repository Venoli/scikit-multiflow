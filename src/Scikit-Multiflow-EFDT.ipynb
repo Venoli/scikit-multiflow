{
 "cells": [
  {
   "cell_type": "code",
   "execution_count": 1,
   "metadata": {},
   "outputs": [],
   "source": [
    "%matplotlib notebook"
   ]
  },
  {
   "cell_type": "code",
   "execution_count": 2,
   "metadata": {},
   "outputs": [],
   "source": [
    "%load_ext autoreload\n",
    "\n",
    "%autoreload 2"
   ]
  },
  {
   "cell_type": "code",
   "execution_count": 12,
   "metadata": {},
   "outputs": [],
   "source": [
    "pip install -U scikit-multiflow"
   ]
  },
  {
   "cell_type": "markdown",
   "metadata": {},
   "source": [
    "# Preprocessing"
   ]
  },
  {
   "cell_type": "code",
   "execution_count": 4,
   "metadata": {},
   "outputs": [],
   "source": [
    "import pandas as pd\n",
    "import numpy as np"
   ]
  },
  {
   "cell_type": "code",
   "execution_count": 5,
   "metadata": {},
   "outputs": [],
   "source": [
    "dataset = pd.read_csv('pulsar_data_train.csv')"
   ]
  },
  {
   "cell_type": "code",
   "execution_count": 6,
   "metadata": {},
   "outputs": [],
   "source": [
    "from sklearn.impute import SimpleImputer\n",
    "#imputer = SimpleImputer(missing_values = \"NaN\", strategy = \"mean\")"
   ]
  },
  {
   "cell_type": "code",
   "execution_count": 7,
   "metadata": {},
   "outputs": [
    {
     "name": "stdout",
     "output_type": "stream",
     "text": [
      "[[ 1.21156250e+02  4.83729711e+01  3.75484665e-01 ...  7.44987415e+00\n",
      "   6.51592977e+01  0.00000000e+00]\n",
      " [ 7.69687500e+01  3.61755566e+01  7.12897860e-01 ...  9.41465226e+00\n",
      "   1.02722975e+02  0.00000000e+00]\n",
      " [ 1.30585938e+02  5.32295335e+01  1.33408289e-01 ...  8.50836378e+00\n",
      "   7.40313242e+01  0.00000000e+00]\n",
      " ...\n",
      " [ 1.16031250e+02  4.32138464e+01  6.63455691e-01 ...  1.70552145e+01\n",
      "   3.12204325e+02  0.00000000e+00]\n",
      " [ 1.35664062e+02  4.99337494e+01 -8.99403060e-02 ...  7.39839490e+00\n",
      "   6.23340175e+01  0.00000000e+00]\n",
      " [ 1.20726562e+02  5.04722564e+01  3.46178079e-01 ...  1.76622219e+01\n",
      "   3.29548016e+02  0.00000000e+00]]\n"
     ]
    },
    {
     "name": "stderr",
     "output_type": "stream",
     "text": [
      "C:\\Users\\dell\\Anaconda3\\lib\\site-packages\\sklearn\\impute\\_base.py:356: DeprecationWarning: `np.bool` is a deprecated alias for the builtin `bool`. To silence this warning, use `bool` by itself. Doing this will not modify any behavior and is safe. If you specifically wanted the numpy scalar type, use `np.bool_` here.\n",
      "Deprecated in NumPy 1.20; for more details and guidance: https://numpy.org/devdocs/release/1.20.0-notes.html#deprecations\n",
      "  row_mask = np.logical_not(row_mask).astype(np.bool)\n",
      "C:\\Users\\dell\\Anaconda3\\lib\\site-packages\\sklearn\\impute\\_base.py:356: DeprecationWarning: `np.bool` is a deprecated alias for the builtin `bool`. To silence this warning, use `bool` by itself. Doing this will not modify any behavior and is safe. If you specifically wanted the numpy scalar type, use `np.bool_` here.\n",
      "Deprecated in NumPy 1.20; for more details and guidance: https://numpy.org/devdocs/release/1.20.0-notes.html#deprecations\n",
      "  row_mask = np.logical_not(row_mask).astype(np.bool)\n",
      "C:\\Users\\dell\\Anaconda3\\lib\\site-packages\\sklearn\\impute\\_base.py:356: DeprecationWarning: `np.bool` is a deprecated alias for the builtin `bool`. To silence this warning, use `bool` by itself. Doing this will not modify any behavior and is safe. If you specifically wanted the numpy scalar type, use `np.bool_` here.\n",
      "Deprecated in NumPy 1.20; for more details and guidance: https://numpy.org/devdocs/release/1.20.0-notes.html#deprecations\n",
      "  row_mask = np.logical_not(row_mask).astype(np.bool)\n",
      "C:\\Users\\dell\\Anaconda3\\lib\\site-packages\\sklearn\\impute\\_base.py:356: DeprecationWarning: `np.bool` is a deprecated alias for the builtin `bool`. To silence this warning, use `bool` by itself. Doing this will not modify any behavior and is safe. If you specifically wanted the numpy scalar type, use `np.bool_` here.\n",
      "Deprecated in NumPy 1.20; for more details and guidance: https://numpy.org/devdocs/release/1.20.0-notes.html#deprecations\n",
      "  row_mask = np.logical_not(row_mask).astype(np.bool)\n",
      "C:\\Users\\dell\\Anaconda3\\lib\\site-packages\\sklearn\\impute\\_base.py:356: DeprecationWarning: `np.bool` is a deprecated alias for the builtin `bool`. To silence this warning, use `bool` by itself. Doing this will not modify any behavior and is safe. If you specifically wanted the numpy scalar type, use `np.bool_` here.\n",
      "Deprecated in NumPy 1.20; for more details and guidance: https://numpy.org/devdocs/release/1.20.0-notes.html#deprecations\n",
      "  row_mask = np.logical_not(row_mask).astype(np.bool)\n",
      "C:\\Users\\dell\\Anaconda3\\lib\\site-packages\\sklearn\\impute\\_base.py:356: DeprecationWarning: `np.bool` is a deprecated alias for the builtin `bool`. To silence this warning, use `bool` by itself. Doing this will not modify any behavior and is safe. If you specifically wanted the numpy scalar type, use `np.bool_` here.\n",
      "Deprecated in NumPy 1.20; for more details and guidance: https://numpy.org/devdocs/release/1.20.0-notes.html#deprecations\n",
      "  row_mask = np.logical_not(row_mask).astype(np.bool)\n",
      "C:\\Users\\dell\\Anaconda3\\lib\\site-packages\\sklearn\\impute\\_base.py:356: DeprecationWarning: `np.bool` is a deprecated alias for the builtin `bool`. To silence this warning, use `bool` by itself. Doing this will not modify any behavior and is safe. If you specifically wanted the numpy scalar type, use `np.bool_` here.\n",
      "Deprecated in NumPy 1.20; for more details and guidance: https://numpy.org/devdocs/release/1.20.0-notes.html#deprecations\n",
      "  row_mask = np.logical_not(row_mask).astype(np.bool)\n",
      "C:\\Users\\dell\\Anaconda3\\lib\\site-packages\\sklearn\\impute\\_base.py:356: DeprecationWarning: `np.bool` is a deprecated alias for the builtin `bool`. To silence this warning, use `bool` by itself. Doing this will not modify any behavior and is safe. If you specifically wanted the numpy scalar type, use `np.bool_` here.\n",
      "Deprecated in NumPy 1.20; for more details and guidance: https://numpy.org/devdocs/release/1.20.0-notes.html#deprecations\n",
      "  row_mask = np.logical_not(row_mask).astype(np.bool)\n",
      "C:\\Users\\dell\\Anaconda3\\lib\\site-packages\\sklearn\\impute\\_base.py:356: DeprecationWarning: `np.bool` is a deprecated alias for the builtin `bool`. To silence this warning, use `bool` by itself. Doing this will not modify any behavior and is safe. If you specifically wanted the numpy scalar type, use `np.bool_` here.\n",
      "Deprecated in NumPy 1.20; for more details and guidance: https://numpy.org/devdocs/release/1.20.0-notes.html#deprecations\n",
      "  row_mask = np.logical_not(row_mask).astype(np.bool)\n"
     ]
    }
   ],
   "source": [
    "imputer = SimpleImputer(strategy=\"most_frequent\")\n",
    "print(imputer.fit_transform(dataset))"
   ]
  },
  {
   "cell_type": "markdown",
   "metadata": {},
   "source": [
    "# Training"
   ]
  },
  {
   "cell_type": "code",
   "execution_count": 7,
   "metadata": {},
   "outputs": [
    {
     "name": "stdout",
     "output_type": "stream",
     "text": [
      "Features:\n",
      "['Mean of the integrated profile', 'Standard deviation of the integrated profile', 'Excess kurtosis of the integrated profile', 'Skewness of the integrated profile', 'Mean of the DM-SNR curve', 'Standard deviation of the DM-SNR curve', 'Excess kurtosis of the DM-SNR curve', 'Skewness of the DM-SNR curve']\n",
      "Number of Targets: 1\n",
      "Name: ['target_class']\n",
      "Target class values: [0, 1]\n"
     ]
    }
   ],
   "source": [
    "#Alrady tested. fast,not incrimently learn, not solve imbalance problem\n",
    "from skmultiflow.data import FileStream\n",
    "\n",
    "# 1. Create a stream\n",
    "\n",
    "stream = FileStream('pulsar_data_train.csv')\n",
    "#(./name)\n",
    "print(\"Features:\")\n",
    "print(stream.feature_names)\n",
    "print(\"Number of Targets: \" + str(stream.n_targets)+\"\\nName: \"+str(stream.target_names))\n",
    "print(\"Target class values: \" + str(stream.target_values))\n"
   ]
  },
  {
   "cell_type": "markdown",
   "metadata": {},
   "source": [
    "### Testing Results"
   ]
  },
  {
   "cell_type": "code",
   "execution_count": 13,
   "metadata": {},
   "outputs": [],
   "source": [
    "from sklearn.metrics import accuracy_score\n",
    "from sklearn.metrics import recall_score\n",
    "from sklearn.metrics import precision_score\n",
    "from sklearn.metrics import f1_score\n",
    "from sklearn.metrics import confusion_matrix\n",
    "import numpy as np\n",
    "def evaluationMesures(y_true_all, y_pred_all): \n",
    "  tn, fp, fn, tp = confusion_matrix(y_true_all,y_pred_all).ravel()\n",
    "  recall = recall_score(y_true_all, y_pred_all)\n",
    "  precision = precision_score(y_true_all, y_pred_all)\n",
    "  accuracy = accuracy_score(y_true_all, y_pred_all)\n",
    "  f1 = f1_score(y_true_all, y_pred_all)\n",
    "  specificity = tn/(tn + fp)\n",
    "  G_mean = np.sqrt((precision * specificity))\n",
    "\n",
    "  print('Accuracy: {0} \\nRecall: {1} \\nPrecision: {2} \\nF1 Score: {3} \\nSpecificity(TNR): {4} \\nG-Mean: {5}'\n",
    "      .format(accuracy,recall,precision,f1,specificity,G_mean))"
   ]
  },
  {
   "cell_type": "markdown",
   "metadata": {},
   "source": [
    "# ExtremelyFastDecisionTreeClassifier"
   ]
  },
  {
   "cell_type": "code",
   "execution_count": 10,
   "metadata": {
    "scrolled": true
   },
   "outputs": [
    {
     "name": "stdout",
     "output_type": "stream",
     "text": [
      "info: \n",
      "<bound method BaseSKMObject.get_info of ExtremelyFastDecisionTreeClassifier(binary_split=False, grace_period=200,\n",
      "                                    leaf_prediction='nba',\n",
      "                                    max_byte_size=33554432,\n",
      "                                    memory_estimate_period=1000000,\n",
      "                                    min_samples_reevaluate=20, nb_threshold=0,\n",
      "                                    nominal_attributes=None,\n",
      "                                    split_confidence=1e-07,\n",
      "                                    split_criterion='gaussian_hellinger',\n",
      "                                    stop_mem_management=False,\n",
      "                                    tie_threshold=0.05)>\n",
      "9273 samples analyzed.\n",
      "0:01:53.107854 Time difference\n",
      "Extremely Fast Decision Tree accuracy: 0.9674323304216542\n",
      "info: \n",
      "<bound method BaseSKMObject.get_info of ExtremelyFastDecisionTreeClassifier(binary_split=False, grace_period=200,\n",
      "                                    leaf_prediction='nba',\n",
      "                                    max_byte_size=33554432,\n",
      "                                    memory_estimate_period=1000000,\n",
      "                                    min_samples_reevaluate=20, nb_threshold=0,\n",
      "                                    nominal_attributes=None,\n",
      "                                    split_confidence=1e-07,\n",
      "                                    split_criterion='gaussian_hellinger',\n",
      "                                    stop_mem_management=False,\n",
      "                                    tie_threshold=0.05)>\n"
     ]
    }
   ],
   "source": [
    "start_time = datetime.datetime.now()\n",
    "stream = FileStream('pulsar_data_train.csv')\n",
    "\n",
    "efdtgh = ExtremelyFastDecisionTreeClassifier(split_criterion='gaussian_hellinger')\n",
    "\n",
    "\n",
    "print(\"info: \")\n",
    "print(efdtgh.get_info)\n",
    "# Setup variables to control loop and track performance\n",
    "n_samples = 0\n",
    "correct_cnt = 0\n",
    "max_samples = 20000\n",
    "y_true_all = []\n",
    "y_pred_all = []\n",
    "# Train the estimator with the samples provided by the data stream\n",
    "while n_samples < max_samples and stream.has_more_samples():\n",
    "    X, y = stream.next_sample()\n",
    "    y_pred = efdtgh.predict(X)\n",
    "    y_true_all.append(y[0])\n",
    "    y_pred_all.append(y_pred[0])\n",
    "    if y[0] == y_pred[0]:\n",
    "        correct_cnt += 1\n",
    "    efdtgh.partial_fit(X, y)\n",
    "    n_samples += 1\n",
    "end_time = datetime.datetime.now()\n",
    "time_difference = end_time - start_time\n",
    "print('{} samples analyzed.'.format(n_samples))\n",
    "print('{} Time difference'.format(time_difference))\n",
    "print('Extremely Fast Decision Tree accuracy: {}'.format(correct_cnt / n_samples))\n",
    "print(\"info: \")\n",
    "print(efdtgh.get_info)"
   ]
  },
  {
   "cell_type": "code",
   "execution_count": null,
   "metadata": {},
   "outputs": [],
   "source": [
    "evaluationMesures(y_true_all,y_pred_all)"
   ]
  },
  {
   "cell_type": "code",
   "execution_count": 68,
   "metadata": {},
   "outputs": [
    {
     "name": "stdout",
     "output_type": "stream",
     "text": [
      "info: \n",
      "<bound method BaseSKMObject.get_info of ExtremelyFastDecisionTreeClassifier(binary_split=False, grace_period=200,\n",
      "                                    leaf_prediction='nba',\n",
      "                                    max_byte_size=33554432,\n",
      "                                    memory_estimate_period=1000000,\n",
      "                                    min_samples_reevaluate=20, nb_threshold=0,\n",
      "                                    nominal_attributes=None,\n",
      "                                    split_confidence=1e-07,\n",
      "                                    split_criterion='gini',\n",
      "                                    stop_mem_management=False,\n",
      "                                    tie_threshold=0.05)>\n",
      "9273 samples analyzed.\n",
      "0:00:47.445000 Time difference\n",
      "Extremely Fast Decision Tree accuracy: 0.9718537690067939\n",
      "info: \n",
      "<bound method BaseSKMObject.get_info of ExtremelyFastDecisionTreeClassifier(binary_split=False, grace_period=200,\n",
      "                                    leaf_prediction='nba',\n",
      "                                    max_byte_size=33554432,\n",
      "                                    memory_estimate_period=1000000,\n",
      "                                    min_samples_reevaluate=20, nb_threshold=0,\n",
      "                                    nominal_attributes=None,\n",
      "                                    split_confidence=1e-07,\n",
      "                                    split_criterion='gini',\n",
      "                                    stop_mem_management=False,\n",
      "                                    tie_threshold=0.05)>\n"
     ]
    }
   ],
   "source": [
    "start_time = datetime.datetime.now()\n",
    "stream = FileStream('pulsar_data_train.csv')\n",
    "\n",
    "efdtgini = ExtremelyFastDecisionTreeClassifier(split_criterion='gini')\n",
    "\n",
    "\n",
    "print(\"info: \")\n",
    "print(efdtgini.get_info)\n",
    "# Setup variables to control loop and track performance\n",
    "n_samples = 0\n",
    "correct_cnt = 0\n",
    "max_samples = 20000\n",
    "y_true_all = []\n",
    "y_pred_all = []\n",
    "# Train the estimator with the samples provided by the data stream\n",
    "while n_samples < max_samples and stream.has_more_samples():\n",
    "    X, y = stream.next_sample()\n",
    "    y_pred = efdtgini.predict(X)\n",
    "    y_true_all.append(y[0])\n",
    "    y_pred_all.append(y_pred[0])\n",
    "    if y[0] == y_pred[0]:\n",
    "        correct_cnt += 1\n",
    "    efdtgini.partial_fit(X, y)\n",
    "    n_samples += 1\n",
    "end_time = datetime.datetime.now()\n",
    "time_difference = end_time - start_time\n",
    "print('{} samples analyzed.'.format(n_samples))\n",
    "print('{} Time difference'.format(time_difference))\n",
    "print('Extremely Fast Decision Tree accuracy: {}'.format(correct_cnt / n_samples))\n",
    "print(\"info: \")\n",
    "print(efdtgini.get_info)"
   ]
  }
 ],
 "metadata": {
  "kernelspec": {
   "display_name": "Python 3",
   "language": "python",
   "name": "python3"
  },
  "language_info": {
   "codemirror_mode": {
    "name": "ipython",
    "version": 3
   },
   "file_extension": ".py",
   "mimetype": "text/x-python",
   "name": "python",
   "nbconvert_exporter": "python",
   "pygments_lexer": "ipython3",
   "version": "3.8.5"
  }
 },
 "nbformat": 4,
 "nbformat_minor": 2
}
