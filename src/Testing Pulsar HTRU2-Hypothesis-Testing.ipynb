{
 "cells": [
  {
   "cell_type": "code",
   "execution_count": 1,
   "metadata": {},
   "outputs": [],
   "source": [
    "%matplotlib notebook"
   ]
  },
  {
   "cell_type": "code",
   "execution_count": 2,
   "metadata": {},
   "outputs": [],
   "source": [
    "%load_ext autoreload\n",
    "\n",
    "%autoreload 2"
   ]
  },
  {
   "cell_type": "code",
   "execution_count": 17,
   "metadata": {},
   "outputs": [
    {
     "name": "stdout",
     "output_type": "stream",
     "text": [
      "Requirement already up-to-date: scikit-multiflow in /Users/venoligamage/Documents/FYP/Implementation/Asips/scikit-multiflow/src (0.6.dev0)\n",
      "Requirement already satisfied, skipping upgrade: sortedcontainers>=1.5.7 in /Users/venoligamage/opt/anaconda3/lib/python3.8/site-packages (from scikit-multiflow) (2.2.2)\n",
      "Requirement already satisfied, skipping upgrade: numpy>=1.14.0 in /Users/venoligamage/opt/anaconda3/lib/python3.8/site-packages (from scikit-multiflow) (1.20.2)\n",
      "Requirement already satisfied, skipping upgrade: scipy>=1.0.0 in /Users/venoligamage/opt/anaconda3/lib/python3.8/site-packages (from scikit-multiflow) (1.5.2)\n",
      "Requirement already satisfied, skipping upgrade: matplotlib>=2.0.0 in /Users/venoligamage/opt/anaconda3/lib/python3.8/site-packages (from scikit-multiflow) (3.3.2)\n",
      "Requirement already satisfied, skipping upgrade: scikit-learn>=0.20 in /Users/venoligamage/opt/anaconda3/lib/python3.8/site-packages (from scikit-multiflow) (0.23.2)\n",
      "Requirement already satisfied, skipping upgrade: pandas>=0.25.3 in /Users/venoligamage/opt/anaconda3/lib/python3.8/site-packages (from scikit-multiflow) (1.1.3)\n",
      "Requirement already satisfied, skipping upgrade: python-dateutil>=2.1 in /Users/venoligamage/opt/anaconda3/lib/python3.8/site-packages (from matplotlib>=2.0.0->scikit-multiflow) (2.8.1)\n",
      "Requirement already satisfied, skipping upgrade: kiwisolver>=1.0.1 in /Users/venoligamage/opt/anaconda3/lib/python3.8/site-packages (from matplotlib>=2.0.0->scikit-multiflow) (1.3.0)\n",
      "Requirement already satisfied, skipping upgrade: pyparsing!=2.0.4,!=2.1.2,!=2.1.6,>=2.0.3 in /Users/venoligamage/opt/anaconda3/lib/python3.8/site-packages (from matplotlib>=2.0.0->scikit-multiflow) (2.4.7)\n",
      "Requirement already satisfied, skipping upgrade: cycler>=0.10 in /Users/venoligamage/opt/anaconda3/lib/python3.8/site-packages (from matplotlib>=2.0.0->scikit-multiflow) (0.10.0)\n",
      "Requirement already satisfied, skipping upgrade: certifi>=2020.06.20 in /Users/venoligamage/opt/anaconda3/lib/python3.8/site-packages (from matplotlib>=2.0.0->scikit-multiflow) (2020.6.20)\n",
      "Requirement already satisfied, skipping upgrade: pillow>=6.2.0 in /Users/venoligamage/opt/anaconda3/lib/python3.8/site-packages (from matplotlib>=2.0.0->scikit-multiflow) (8.0.1)\n",
      "Requirement already satisfied, skipping upgrade: threadpoolctl>=2.0.0 in /Users/venoligamage/opt/anaconda3/lib/python3.8/site-packages (from scikit-learn>=0.20->scikit-multiflow) (2.1.0)\n",
      "Requirement already satisfied, skipping upgrade: joblib>=0.11 in /Users/venoligamage/opt/anaconda3/lib/python3.8/site-packages (from scikit-learn>=0.20->scikit-multiflow) (0.17.0)\n",
      "Requirement already satisfied, skipping upgrade: pytz>=2017.2 in /Users/venoligamage/opt/anaconda3/lib/python3.8/site-packages (from pandas>=0.25.3->scikit-multiflow) (2020.1)\n",
      "Requirement already satisfied, skipping upgrade: six>=1.5 in /Users/venoligamage/opt/anaconda3/lib/python3.8/site-packages (from python-dateutil>=2.1->matplotlib>=2.0.0->scikit-multiflow) (1.15.0)\n",
      "Note: you may need to restart the kernel to use updated packages.\n"
     ]
    }
   ],
   "source": [
    "pip install -U scikit-multiflow"
   ]
  },
  {
   "cell_type": "markdown",
   "metadata": {},
   "source": [
    "# Preprocessing"
   ]
  },
  {
   "cell_type": "code",
   "execution_count": 3,
   "metadata": {},
   "outputs": [],
   "source": [
    "import pandas as pd\n",
    "import numpy as np"
   ]
  },
  {
   "cell_type": "code",
   "execution_count": 4,
   "metadata": {},
   "outputs": [],
   "source": [
    "dataset = pd.read_csv('pulsar_data_train.csv')"
   ]
  },
  {
   "cell_type": "code",
   "execution_count": 6,
   "metadata": {},
   "outputs": [],
   "source": [
    "from sklearn.impute import SimpleImputer\n",
    "#imputer = SimpleImputer(missing_values = \"NaN\", strategy = \"mean\")"
   ]
  },
  {
   "cell_type": "code",
   "execution_count": 7,
   "metadata": {},
   "outputs": [
    {
     "name": "stdout",
     "output_type": "stream",
     "text": [
      "[[ 1.21156250e+02  4.83729711e+01  3.75484665e-01 ...  7.44987415e+00\n",
      "   6.51592977e+01  0.00000000e+00]\n",
      " [ 7.69687500e+01  3.61755566e+01  7.12897860e-01 ...  9.41465226e+00\n",
      "   1.02722975e+02  0.00000000e+00]\n",
      " [ 1.30585938e+02  5.32295335e+01  1.33408289e-01 ...  8.50836378e+00\n",
      "   7.40313242e+01  0.00000000e+00]\n",
      " ...\n",
      " [ 1.16031250e+02  4.32138464e+01  6.63455691e-01 ...  1.70552145e+01\n",
      "   3.12204325e+02  0.00000000e+00]\n",
      " [ 1.35664062e+02  4.99337494e+01 -8.99403060e-02 ...  7.39839490e+00\n",
      "   6.23340175e+01  0.00000000e+00]\n",
      " [ 1.20726562e+02  5.04722564e+01  3.46178079e-01 ...  1.76622219e+01\n",
      "   3.29548016e+02  0.00000000e+00]]\n"
     ]
    },
    {
     "name": "stderr",
     "output_type": "stream",
     "text": [
      "C:\\Users\\dell\\Anaconda3\\lib\\site-packages\\sklearn\\impute\\_base.py:356: DeprecationWarning: `np.bool` is a deprecated alias for the builtin `bool`. To silence this warning, use `bool` by itself. Doing this will not modify any behavior and is safe. If you specifically wanted the numpy scalar type, use `np.bool_` here.\n",
      "Deprecated in NumPy 1.20; for more details and guidance: https://numpy.org/devdocs/release/1.20.0-notes.html#deprecations\n",
      "  row_mask = np.logical_not(row_mask).astype(np.bool)\n",
      "C:\\Users\\dell\\Anaconda3\\lib\\site-packages\\sklearn\\impute\\_base.py:356: DeprecationWarning: `np.bool` is a deprecated alias for the builtin `bool`. To silence this warning, use `bool` by itself. Doing this will not modify any behavior and is safe. If you specifically wanted the numpy scalar type, use `np.bool_` here.\n",
      "Deprecated in NumPy 1.20; for more details and guidance: https://numpy.org/devdocs/release/1.20.0-notes.html#deprecations\n",
      "  row_mask = np.logical_not(row_mask).astype(np.bool)\n",
      "C:\\Users\\dell\\Anaconda3\\lib\\site-packages\\sklearn\\impute\\_base.py:356: DeprecationWarning: `np.bool` is a deprecated alias for the builtin `bool`. To silence this warning, use `bool` by itself. Doing this will not modify any behavior and is safe. If you specifically wanted the numpy scalar type, use `np.bool_` here.\n",
      "Deprecated in NumPy 1.20; for more details and guidance: https://numpy.org/devdocs/release/1.20.0-notes.html#deprecations\n",
      "  row_mask = np.logical_not(row_mask).astype(np.bool)\n",
      "C:\\Users\\dell\\Anaconda3\\lib\\site-packages\\sklearn\\impute\\_base.py:356: DeprecationWarning: `np.bool` is a deprecated alias for the builtin `bool`. To silence this warning, use `bool` by itself. Doing this will not modify any behavior and is safe. If you specifically wanted the numpy scalar type, use `np.bool_` here.\n",
      "Deprecated in NumPy 1.20; for more details and guidance: https://numpy.org/devdocs/release/1.20.0-notes.html#deprecations\n",
      "  row_mask = np.logical_not(row_mask).astype(np.bool)\n",
      "C:\\Users\\dell\\Anaconda3\\lib\\site-packages\\sklearn\\impute\\_base.py:356: DeprecationWarning: `np.bool` is a deprecated alias for the builtin `bool`. To silence this warning, use `bool` by itself. Doing this will not modify any behavior and is safe. If you specifically wanted the numpy scalar type, use `np.bool_` here.\n",
      "Deprecated in NumPy 1.20; for more details and guidance: https://numpy.org/devdocs/release/1.20.0-notes.html#deprecations\n",
      "  row_mask = np.logical_not(row_mask).astype(np.bool)\n",
      "C:\\Users\\dell\\Anaconda3\\lib\\site-packages\\sklearn\\impute\\_base.py:356: DeprecationWarning: `np.bool` is a deprecated alias for the builtin `bool`. To silence this warning, use `bool` by itself. Doing this will not modify any behavior and is safe. If you specifically wanted the numpy scalar type, use `np.bool_` here.\n",
      "Deprecated in NumPy 1.20; for more details and guidance: https://numpy.org/devdocs/release/1.20.0-notes.html#deprecations\n",
      "  row_mask = np.logical_not(row_mask).astype(np.bool)\n",
      "C:\\Users\\dell\\Anaconda3\\lib\\site-packages\\sklearn\\impute\\_base.py:356: DeprecationWarning: `np.bool` is a deprecated alias for the builtin `bool`. To silence this warning, use `bool` by itself. Doing this will not modify any behavior and is safe. If you specifically wanted the numpy scalar type, use `np.bool_` here.\n",
      "Deprecated in NumPy 1.20; for more details and guidance: https://numpy.org/devdocs/release/1.20.0-notes.html#deprecations\n",
      "  row_mask = np.logical_not(row_mask).astype(np.bool)\n",
      "C:\\Users\\dell\\Anaconda3\\lib\\site-packages\\sklearn\\impute\\_base.py:356: DeprecationWarning: `np.bool` is a deprecated alias for the builtin `bool`. To silence this warning, use `bool` by itself. Doing this will not modify any behavior and is safe. If you specifically wanted the numpy scalar type, use `np.bool_` here.\n",
      "Deprecated in NumPy 1.20; for more details and guidance: https://numpy.org/devdocs/release/1.20.0-notes.html#deprecations\n",
      "  row_mask = np.logical_not(row_mask).astype(np.bool)\n",
      "C:\\Users\\dell\\Anaconda3\\lib\\site-packages\\sklearn\\impute\\_base.py:356: DeprecationWarning: `np.bool` is a deprecated alias for the builtin `bool`. To silence this warning, use `bool` by itself. Doing this will not modify any behavior and is safe. If you specifically wanted the numpy scalar type, use `np.bool_` here.\n",
      "Deprecated in NumPy 1.20; for more details and guidance: https://numpy.org/devdocs/release/1.20.0-notes.html#deprecations\n",
      "  row_mask = np.logical_not(row_mask).astype(np.bool)\n"
     ]
    }
   ],
   "source": [
    "imputer = SimpleImputer(strategy=\"most_frequent\")\n",
    "print(imputer.fit_transform(dataset))"
   ]
  },
  {
   "cell_type": "markdown",
   "metadata": {},
   "source": [
    "## Training Data"
   ]
  },
  {
   "cell_type": "code",
   "execution_count": 158,
   "metadata": {},
   "outputs": [
    {
     "name": "stdout",
     "output_type": "stream",
     "text": [
      "Features:\n",
      "['Mean of the integrated profile', 'Standard deviation of the integrated profile', 'Excess kurtosis of the integrated profile', 'Skewness of the integrated profile', 'Mean of the DM-SNR curve', 'Standard deviation of the DM-SNR curve', 'Excess kurtosis of the DM-SNR curve', 'Skewness of the DM-SNR curve']\n",
      "Number of Targets: 1\n",
      "Name: ['target_class']\n",
      "Target class values: [0, 1]\n"
     ]
    }
   ],
   "source": [
    "#Alrady tested. fast,not incrimently learn, not solve imbalance problem\n",
    "from skmultiflow.data import FileStream\n",
    "\n",
    "# 1. Create a stream\n",
    "\n",
    "stream = FileStream('sixty_to_one.csv')\n",
    "#(./name)\n",
    "print(\"Features:\")\n",
    "print(stream.feature_names)\n",
    "print(\"Number of Targets: \" + str(stream.n_targets)+\"\\nName: \"+str(stream.target_names))\n",
    "print(\"Target class values: \" + str(stream.target_values))\n"
   ]
  },
  {
   "cell_type": "code",
   "execution_count": 159,
   "metadata": {},
   "outputs": [
    {
     "data": {
      "text/html": [
       "<div>\n",
       "<style scoped>\n",
       "    .dataframe tbody tr th:only-of-type {\n",
       "        vertical-align: middle;\n",
       "    }\n",
       "\n",
       "    .dataframe tbody tr th {\n",
       "        vertical-align: top;\n",
       "    }\n",
       "\n",
       "    .dataframe thead th {\n",
       "        text-align: right;\n",
       "    }\n",
       "</style>\n",
       "<table border=\"1\" class=\"dataframe\">\n",
       "  <thead>\n",
       "    <tr style=\"text-align: right;\">\n",
       "      <th></th>\n",
       "      <th>Mean of the integrated profile</th>\n",
       "      <th>Standard deviation of the integrated profile</th>\n",
       "      <th>Excess kurtosis of the integrated profile</th>\n",
       "      <th>Skewness of the integrated profile</th>\n",
       "      <th>Mean of the DM-SNR curve</th>\n",
       "      <th>Standard deviation of the DM-SNR curve</th>\n",
       "      <th>Excess kurtosis of the DM-SNR curve</th>\n",
       "      <th>Skewness of the DM-SNR curve</th>\n",
       "      <th>target_class</th>\n",
       "    </tr>\n",
       "  </thead>\n",
       "  <tbody>\n",
       "    <tr>\n",
       "      <th>0</th>\n",
       "      <td>128.703125</td>\n",
       "      <td>45.131814</td>\n",
       "      <td>0.152510</td>\n",
       "      <td>-0.125715</td>\n",
       "      <td>2.786789</td>\n",
       "      <td>17.155024</td>\n",
       "      <td>8.295487</td>\n",
       "      <td>83.729572</td>\n",
       "      <td>0</td>\n",
       "    </tr>\n",
       "    <tr>\n",
       "      <th>1</th>\n",
       "      <td>93.750000</td>\n",
       "      <td>40.657679</td>\n",
       "      <td>0.910555</td>\n",
       "      <td>2.164690</td>\n",
       "      <td>5.096990</td>\n",
       "      <td>28.217898</td>\n",
       "      <td>5.916694</td>\n",
       "      <td>35.542304</td>\n",
       "      <td>1</td>\n",
       "    </tr>\n",
       "    <tr>\n",
       "      <th>2</th>\n",
       "      <td>29.968750</td>\n",
       "      <td>48.852287</td>\n",
       "      <td>3.327600</td>\n",
       "      <td>10.497249</td>\n",
       "      <td>73.742475</td>\n",
       "      <td>73.829125</td>\n",
       "      <td>0.667374</td>\n",
       "      <td>-0.641268</td>\n",
       "      <td>1</td>\n",
       "    </tr>\n",
       "    <tr>\n",
       "      <th>3</th>\n",
       "      <td>10.312500</td>\n",
       "      <td>36.101582</td>\n",
       "      <td>5.616803</td>\n",
       "      <td>32.145248</td>\n",
       "      <td>84.564381</td>\n",
       "      <td>53.161095</td>\n",
       "      <td>1.072976</td>\n",
       "      <td>1.020764</td>\n",
       "      <td>1</td>\n",
       "    </tr>\n",
       "    <tr>\n",
       "      <th>4</th>\n",
       "      <td>28.195312</td>\n",
       "      <td>39.213769</td>\n",
       "      <td>4.269629</td>\n",
       "      <td>18.154262</td>\n",
       "      <td>103.806020</td>\n",
       "      <td>85.647206</td>\n",
       "      <td>0.095444</td>\n",
       "      <td>-1.358248</td>\n",
       "      <td>1</td>\n",
       "    </tr>\n",
       "  </tbody>\n",
       "</table>\n",
       "</div>"
      ],
      "text/plain": [
       "   Mean of the integrated profile  \\\n",
       "0                      128.703125   \n",
       "1                       93.750000   \n",
       "2                       29.968750   \n",
       "3                       10.312500   \n",
       "4                       28.195312   \n",
       "\n",
       "   Standard deviation of the integrated profile  \\\n",
       "0                                     45.131814   \n",
       "1                                     40.657679   \n",
       "2                                     48.852287   \n",
       "3                                     36.101582   \n",
       "4                                     39.213769   \n",
       "\n",
       "   Excess kurtosis of the integrated profile  \\\n",
       "0                                   0.152510   \n",
       "1                                   0.910555   \n",
       "2                                   3.327600   \n",
       "3                                   5.616803   \n",
       "4                                   4.269629   \n",
       "\n",
       "   Skewness of the integrated profile  Mean of the DM-SNR curve  \\\n",
       "0                           -0.125715                  2.786789   \n",
       "1                            2.164690                  5.096990   \n",
       "2                           10.497249                 73.742475   \n",
       "3                           32.145248                 84.564381   \n",
       "4                           18.154262                103.806020   \n",
       "\n",
       "   Standard deviation of the DM-SNR curve  \\\n",
       "0                               17.155024   \n",
       "1                               28.217898   \n",
       "2                               73.829125   \n",
       "3                               53.161095   \n",
       "4                               85.647206   \n",
       "\n",
       "   Excess kurtosis of the DM-SNR curve  Skewness of the DM-SNR curve  \\\n",
       "0                             8.295487                     83.729572   \n",
       "1                             5.916694                     35.542304   \n",
       "2                             0.667374                     -0.641268   \n",
       "3                             1.072976                      1.020764   \n",
       "4                             0.095444                     -1.358248   \n",
       "\n",
       "   target_class  \n",
       "0             0  \n",
       "1             1  \n",
       "2             1  \n",
       "3             1  \n",
       "4             1  "
      ]
     },
     "execution_count": 159,
     "metadata": {},
     "output_type": "execute_result"
    }
   ],
   "source": [
    "dataset = pd.read_csv('sixty_to_one.csv')\n",
    "# dataset = dataset.sample(frac=1).reset_index(drop=True)\n",
    "dataset.head()"
   ]
  },
  {
   "cell_type": "markdown",
   "metadata": {},
   "source": [
    "## Testing Results"
   ]
  },
  {
   "cell_type": "code",
   "execution_count": 91,
   "metadata": {},
   "outputs": [],
   "source": [
    "from sklearn.metrics import accuracy_score\n",
    "from sklearn.metrics import recall_score\n",
    "from sklearn.metrics import precision_score\n",
    "from sklearn.metrics import f1_score\n",
    "from sklearn.metrics import confusion_matrix\n",
    "from sklearn.metrics import cohen_kappa_score\n",
    "import numpy as np\n",
    "def evaluationMesures(y_true_all, y_pred_all): \n",
    "  tn, fp, fn, tp = confusion_matrix(y_true_all,y_pred_all).ravel()\n",
    "  recall = recall_score(y_true_all, y_pred_all)\n",
    "  precision = precision_score(y_true_all, y_pred_all)\n",
    "  accuracy = accuracy_score(y_true_all, y_pred_all)\n",
    "  f1 = f1_score(y_true_all, y_pred_all)\n",
    "  specificity = tn/(tn + fp)\n",
    "  G_mean = np.sqrt((precision * specificity))\n",
    "  kappa = cohen_kappa_score(y_true_all, y_pred_all)\n",
    "\n",
    "  print('Accuracy: {0} \\nRecall: {1} \\nPrecision: {2} \\nF1 Score: {3} \\nSpecificity(TNR): {4} \\nG-Mean: {5} \\nKappa: {6}'\n",
    "      .format(accuracy,recall,precision,f1,specificity,G_mean,kappa))\n",
    "  \n",
    "  print(tn)\n",
    "  print(fp)\n",
    "  print(fn)\n",
    "  print(tp)\n"
   ]
  },
  {
   "cell_type": "markdown",
   "metadata": {},
   "source": [
    "## GH-EFDT"
   ]
  },
  {
   "cell_type": "code",
   "execution_count": 160,
   "metadata": {
    "scrolled": false
   },
   "outputs": [
    {
     "name": "stdout",
     "output_type": "stream",
     "text": [
      "info: \n",
      "<bound method BaseSKMObject.get_info of ExtremelyFastDecisionTreeClassifier(binary_split=False, grace_period=200,\n",
      "                                    leaf_prediction='nba',\n",
      "                                    max_byte_size=33554432,\n",
      "                                    memory_estimate_period=1000000,\n",
      "                                    min_samples_reevaluate=20, nb_threshold=0,\n",
      "                                    nominal_attributes=None,\n",
      "                                    split_confidence=1e-07,\n",
      "                                    split_criterion='gaussian_hellinger',\n",
      "                                    stop_mem_management=False,\n",
      "                                    tie_threshold=0.05)>\n",
      "8326 samples analyzed.\n",
      "0:01:34.738048 Time difference\n",
      "info: \n",
      "<bound method BaseSKMObject.get_info of ExtremelyFastDecisionTreeClassifier(binary_split=False, grace_period=200,\n",
      "                                    leaf_prediction='nba',\n",
      "                                    max_byte_size=33554432,\n",
      "                                    memory_estimate_period=1000000,\n",
      "                                    min_samples_reevaluate=20, nb_threshold=0,\n",
      "                                    nominal_attributes=None,\n",
      "                                    split_confidence=1e-07,\n",
      "                                    split_criterion='gaussian_hellinger',\n",
      "                                    stop_mem_management=False,\n",
      "                                    tie_threshold=0.05)>\n"
     ]
    }
   ],
   "source": [
    "import datetime\n",
    "from skmultiflow.trees import ExtremelyFastDecisionTreeClassifier\n",
    "#fast(not much as ht),incremantly learn, not slove imbalance problem \n",
    "import numpy as np\n",
    "#from skmultiflow.trees.split_criterion import GiniSplitCriterion\n",
    "from skmultiflow.data import DataStream\n",
    "stream = DataStream(dataset)\n",
    "\n",
    "efdtgh = ExtremelyFastDecisionTreeClassifier(split_criterion='gaussian_hellinger')\n",
    "\n",
    "\n",
    "print(\"info: \")\n",
    "print(efdtgh.get_info)\n",
    "# Setup variables to control loop and track performance\n",
    "n_samples = 0\n",
    "max_samples = 20000\n",
    "y_true_all = []\n",
    "y_pred_all = []\n",
    "wait_samples = 193\n",
    "\n",
    "start_time = datetime.datetime.now()\n",
    "# Train the estimator with the samples provided by the data stream\n",
    "while n_samples < max_samples and stream.has_more_samples():\n",
    "    X, y = stream.next_sample()\n",
    "    y_pred = efdtgh.predict(X)\n",
    "    if (n_samples > wait_samples):\n",
    "        y_true_all.append(y[0])\n",
    "        y_pred_all.append(y_pred[0])\n",
    "    efdtgh.partial_fit(X, y)\n",
    "    n_samples += 1\n",
    "    \n",
    "    \n",
    "end_time = datetime.datetime.now()\n",
    "time_difference = end_time - start_time\n",
    "print('{} samples analyzed.'.format(n_samples))\n",
    "print('{} Time difference'.format(time_difference))\n",
    "print(\"info: \")\n",
    "print(efdtgh.get_info)"
   ]
  },
  {
   "cell_type": "code",
   "execution_count": 161,
   "metadata": {},
   "outputs": [
    {
     "name": "stdout",
     "output_type": "stream",
     "text": [
      "Accuracy: 0.9894244958189867 \n",
      "Recall: 0.5639097744360902 \n",
      "Precision: 0.7281553398058253 \n",
      "F1 Score: 0.635593220338983 \n",
      "Specificity(TNR): 0.9964995624453057 \n",
      "G-Mean: 0.8518253797045012 \n",
      "Kappa: 0.6303155695719422\n",
      "7971\n",
      "28\n",
      "58\n",
      "75\n"
     ]
    }
   ],
   "source": [
    "evaluationMesures(y_true_all,y_pred_all)"
   ]
  },
  {
   "cell_type": "markdown",
   "metadata": {},
   "source": [
    "## GH-VFDT"
   ]
  },
  {
   "cell_type": "code",
   "execution_count": 164,
   "metadata": {},
   "outputs": [
    {
     "name": "stdout",
     "output_type": "stream",
     "text": [
      "info: \n",
      "<bound method BaseSKMObject.get_info of HoeffdingTreeClassifier(binary_split=False, grace_period=200,\n",
      "                        leaf_prediction='nba', max_byte_size=33554432,\n",
      "                        memory_estimate_period=1000000, nb_threshold=0,\n",
      "                        no_preprune=False, nominal_attributes=None,\n",
      "                        remove_poor_atts=False, split_confidence=1e-07,\n",
      "                        split_criterion='gaussian_hellinger',\n",
      "                        stop_mem_management=False, tie_threshold=0.05)>\n",
      "8326 samples analyzed.\n",
      "0:00:00.921322 Time difference\n",
      "info: \n",
      "<bound method BaseSKMObject.get_info of HoeffdingTreeClassifier(binary_split=False, grace_period=200,\n",
      "                        leaf_prediction='nba', max_byte_size=33554432,\n",
      "                        memory_estimate_period=1000000, nb_threshold=0,\n",
      "                        no_preprune=False, nominal_attributes=None,\n",
      "                        remove_poor_atts=False, split_confidence=1e-07,\n",
      "                        split_criterion='gaussian_hellinger',\n",
      "                        stop_mem_management=False, tie_threshold=0.05)>\n"
     ]
    }
   ],
   "source": [
    "import datetime\n",
    "from skmultiflow.trees import HoeffdingTreeClassifier\n",
    "#fast(not much as ht),incremantly learn, not slove imbalance problem \n",
    "import numpy as np\n",
    "#from skmultiflow.trees.split_criterion import GiniSplitCriterion\n",
    "from skmultiflow.data import FileStream\n",
    "stream = DataStream(dataset)\n",
    "\n",
    "model = HoeffdingTreeClassifier(split_criterion='gaussian_hellinger')\n",
    "\n",
    "\n",
    "print(\"info: \")\n",
    "print(model.get_info)\n",
    "# Setup variables to control loop and track performance\n",
    "n_samples = 0\n",
    "max_samples = 20000\n",
    "y_true_all = []\n",
    "y_pred_all = []\n",
    "wait_samples = 193\n",
    "\n",
    "start_time = datetime.datetime.now()\n",
    "# Train the estimator with the samples provided by the data stream\n",
    "while n_samples < max_samples and stream.has_more_samples():\n",
    "    X, y = stream.next_sample()\n",
    "    y_pred = model.predict(X)\n",
    "    if (n_samples > wait_samples):\n",
    "        y_true_all.append(y[0])\n",
    "        y_pred_all.append(y_pred[0])\n",
    "    model.partial_fit(X, y)\n",
    "    n_samples += 1\n",
    "    \n",
    "    \n",
    "end_time = datetime.datetime.now()\n",
    "time_difference = end_time - start_time\n",
    "print('{} samples analyzed.'.format(n_samples))\n",
    "print('{} Time difference'.format(time_difference))\n",
    "print(\"info: \")\n",
    "print(model.get_info)"
   ]
  },
  {
   "cell_type": "code",
   "execution_count": 165,
   "metadata": {},
   "outputs": [
    {
     "name": "stdout",
     "output_type": "stream",
     "text": [
      "Accuracy: 0.9786030496802754 \n",
      "Recall: 0.5714285714285714 \n",
      "Precision: 0.39378238341968913 \n",
      "F1 Score: 0.4662576687116564 \n",
      "Specificity(TNR): 0.9853731716464558 \n",
      "G-Mean: 0.622914597748969 \n",
      "Kappa: 0.4557174805957932\n",
      "7882\n",
      "117\n",
      "57\n",
      "76\n"
     ]
    }
   ],
   "source": [
    "evaluationMesures(y_true_all,y_pred_all)"
   ]
  },
  {
   "cell_type": "code",
   "execution_count": null,
   "metadata": {},
   "outputs": [],
   "source": []
  }
 ],
 "metadata": {
  "kernelspec": {
   "display_name": "Python 3",
   "language": "python",
   "name": "python3"
  },
  "language_info": {
   "codemirror_mode": {
    "name": "ipython",
    "version": 3
   },
   "file_extension": ".py",
   "mimetype": "text/x-python",
   "name": "python",
   "nbconvert_exporter": "python",
   "pygments_lexer": "ipython3",
   "version": "3.8.5"
  }
 },
 "nbformat": 4,
 "nbformat_minor": 2
}
